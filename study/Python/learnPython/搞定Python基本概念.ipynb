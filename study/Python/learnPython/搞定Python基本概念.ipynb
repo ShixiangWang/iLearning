{
 "cells": [
  {
   "cell_type": "markdown",
   "metadata": {},
   "source": [
    "# 搞定Python基本概念\n",
    "\n",
    "学习资料为<http://www.jianshu.com/p/e17b397cff3c>及后续，感谢作者 MurphyWan。"
   ]
  },
  {
   "cell_type": "markdown",
   "metadata": {},
   "source": [
    "其实之前也学习过Python的一些基本概念和操作，最近也时常有阅读廖雪峰的Python3教程，但这些基本概念的掌握和理解不是一朝一夕能够沉淀下来的，而我需要快速的能进入使用节奏。所以依靠这几篇博文学习练手。后续也需要继续深入学习Python概念与ipython。"
   ]
  },
  {
   "cell_type": "code",
   "execution_count": null,
   "metadata": {
    "collapsed": true
   },
   "outputs": [],
   "source": []
  }
 ],
 "metadata": {
  "kernelspec": {
   "display_name": "Python 3",
   "language": "python",
   "name": "python3"
  },
  "language_info": {
   "codemirror_mode": {
    "name": "ipython",
    "version": 3
   },
   "file_extension": ".py",
   "mimetype": "text/x-python",
   "name": "python",
   "nbconvert_exporter": "python",
   "pygments_lexer": "ipython3",
   "version": "3.6.3"
  }
 },
 "nbformat": 4,
 "nbformat_minor": 2
}
